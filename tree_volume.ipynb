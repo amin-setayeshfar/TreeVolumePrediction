{
 "cells": [
  {
   "cell_type": "code",
   "execution_count": 23,
   "metadata": {},
   "outputs": [
    {
     "name": "stdout",
     "output_type": "stream",
     "text": [
      "Shape of train X is (159, 4)\n",
      "Shape of test X is (40, 4)\n",
      "Shape of train Y is (159, 1)\n",
      "Shape of test Y is (40, 1)\n",
      "Train accuracy of keras neural network: 0.0076368876383867135\n",
      "Test accuracy of keras neural network: 0.005297798368704591\n",
      "\n",
      "\n",
      "   shib  ertefaae_sine  ertefaae_kol  mohit_dar_nim_metr  result\n",
      "0    45            436          15.3                 252   0.090\n",
      "1    40            480          17.4                 266   0.103\n",
      "2    30            504          15.8                 266   0.114\n",
      "3    30            480          14.2                 260   0.087\n",
      "4    20            474          13.0                 310   0.106\n"
     ]
    },
    {
     "data": {
      "text/plain": [
       "<matplotlib.collections.PathCollection at 0x7fbfb42cc940>"
      ]
     },
     "execution_count": 23,
     "metadata": {},
     "output_type": "execute_result"
    },
    {
     "data": {
      "image/png": "[encoded data removed]",
      "text/plain": [
       "<Figure size 432x288 with 1 Axes>"
      ]
     },
     "metadata": {
      "needs_background": "light"
     },
     "output_type": "display_data"
    }
   ],
   "source": [
    "#prepare data downloaded from UCL\n",
    "\n",
    "import xlrd\n",
    "import pandas as pd\n",
    "import numpy as np\n",
    "import warnings\n",
    "warnings.filterwarnings(\"ignore\") #suppress warnings\n",
    "import matplotlib.pyplot as plt\n",
    "from keras import Sequential\n",
    "from tensorflow.keras.layers import Dense\n",
    "from tensorflow.keras.optimizers import Adam\n",
    "\n",
    "\n",
    "from tensorflow.keras import Sequential\n",
    "from tensorflow.keras.layers import Dense\n",
    "from tensorflow.keras.optimizers import Adam\n",
    "\n",
    "from sklearn.model_selection import train_test_split\n",
    "from sklearn.preprocessing import StandardScaler\n",
    "from sklearn import preprocessing\n",
    "\n",
    "from sklearn.metrics import mean_squared_error\n",
    "\n",
    "# add header names\n",
    "headers =  ['shib',\"ertefaae_sine\",\n",
    "        'ertefaae_kol','mohit_dar_nim_metr', 'result']\n",
    "heart_df = pd.read_excel('trees.xlsx',sheet_name='Vol_Zaraieb_1', usecols=headers)\n",
    "\n",
    "#convert imput to numpy arrays\n",
    "X = heart_df.drop(columns=['result'])\n",
    "\n",
    "y_label = heart_df['result'].values.reshape(X.shape[0], 1)\n",
    "\n",
    "\n",
    "#split data into train and test set\n",
    "Xtrain, Xtest, ytrain, ytest = train_test_split(X, y_label, test_size=0.2, random_state=2)\n",
    "\n",
    "#standardize the dataset\n",
    "sc = preprocessing.MinMaxScaler()\n",
    "sc.fit(Xtrain)\n",
    "Xtrain = sc.transform(Xtrain)\n",
    "Xtest = sc.transform(Xtest)\n",
    "\n",
    "scx = preprocessing.MinMaxScaler()\n",
    "scx.fit(ytrain)\n",
    "ytrain = scx.transform(ytrain)\n",
    "ytest = scx.transform(ytest)\n",
    "print(f\"Shape of train X is {Xtrain.shape}\")\n",
    "print(f\"Shape of test X is {Xtest.shape}\")\n",
    "print(f\"Shape of train Y is {ytrain.shape}\")\n",
    "print(f\"Shape of test Y is {ytest.shape}\")\n",
    "\n",
    "# define the model\n",
    "model = Sequential()\n",
    "model.add(Dense(3, input_shape=(4,)))\n",
    "model.add(Dense(1, activation='sigmoid'))\n",
    "\n",
    "# compile the model\n",
    "model.compile(optimizer='Adam', loss='mean_squared_error', metrics=['accuracy', 'mse'])\n",
    "hist = model.fit(Xtrain, ytrain, epochs=400, verbose=0,shuffle=True, validation_split=0.1, batch_size=50)\n",
    "train_pred = model.predict(Xtrain)\n",
    "test_pred = model.predict(Xtest)\n",
    "print(\"Train accuracy of keras neural network: {}\".format(mean_squared_error(train_pred, ytrain)))\n",
    "print(\"Test accuracy of keras neural network: {}\".format(mean_squared_error(test_pred, ytest)))\n",
    "print(\"\\n\")\n",
    "print(heart_df.head())\n",
    "\n",
    "plt.scatter(test_pred, ytest)\n",
    "\n"
   ]
  },
  {
   "cell_type": "code",
   "execution_count": 24,
   "metadata": {},
   "outputs": [
    {
     "name": "stdout",
     "output_type": "stream",
     "text": [
      "Failed to import pydot. You must install pydot and graphviz for `pydotprint` to work.\n"
     ]
    }
   ],
   "source": [
    "from keras.utils.vis_utils import plot_model\n",
    "plot_model(model, to_file='model_plot.png', show_shapes=True, show_layer_names=True)"
   ]
  },
  {
   "cell_type": "code",
   "execution_count": 25,
   "metadata": {},
   "outputs": [
    {
     "name": "stdout",
     "output_type": "stream",
     "text": [
      "Model: \"sequential_9\"\n",
      "_________________________________________________________________\n",
      "Layer (type)                 Output Shape              Param #   \n",
      "=================================================================\n",
      "dense_18 (Dense)             (None, 3)                 15        \n",
      "_________________________________________________________________\n",
      "dense_19 (Dense)             (None, 1)                 4         \n",
      "=================================================================\n",
      "Total params: 19\n",
      "Trainable params: 19\n",
      "Non-trainable params: 0\n",
      "_________________________________________________________________\n"
     ]
    }
   ],
   "source": [
    "model.summary()"
   ]
  },
  {
   "cell_type": "code",
   "execution_count": 26,
   "metadata": {},
   "outputs": [],
   "source": [
    "test_pred = model.predict(Xtest)"
   ]
  },
  {
   "cell_type": "code",
   "execution_count": 27,
   "metadata": {},
   "outputs": [
    {
     "data": {
      "text/plain": [
       "0.005297798368704591"
      ]
     },
     "execution_count": 27,
     "metadata": {},
     "output_type": "execute_result"
    }
   ],
   "source": [
    "from sklearn.metrics import mean_squared_error\n",
    "mean_squared_error(test_pred, ytest)"
   ]
  },
  {
   "cell_type": "code",
   "execution_count": 28,
   "metadata": {},
   "outputs": [
    {
     "data": {
      "text/plain": [
       "<matplotlib.collections.PathCollection at 0x7fbf943f31c0>"
      ]
     },
     "execution_count": 28,
     "metadata": {},
     "output_type": "execute_result"
    },
    {
     "data": {
      "image/png": "[encoded data removed]",
      "text/plain": [
       "<Figure size 432x288 with 1 Axes>"
      ]
     },
     "metadata": {
      "needs_background": "light"
     },
     "output_type": "display_data"
    }
   ],
   "source": [
    "plt.scatter(test_pred, ytest)"
   ]
  },
  {
   "cell_type": "code",
   "execution_count": 33,
   "metadata": {},
   "outputs": [
    {
     "data": {
      "text/plain": [
       "(1.0, 0.0)"
      ]
     },
     "execution_count": 33,
     "metadata": {},
     "output_type": "execute_result"
    }
   ],
   "source": [
    "np.max(ytrain), np.min(ytrain)"
   ]
  },
  {
   "cell_type": "code",
   "execution_count": 29,
   "metadata": {},
   "outputs": [],
   "source": [
    "import matplotlib.pyplot as plt \n",
    "%matplotlib inline"
   ]
  },
  {
   "cell_type": "code",
   "execution_count": 30,
   "metadata": {},
   "outputs": [
    {
     "data": {
      "text/plain": [
       "[<matplotlib.lines.Line2D at 0x7fbfec28a7f0>]"
      ]
     },
     "execution_count": 30,
     "metadata": {},
     "output_type": "execute_result"
    },
    {
     "data": {
      "image/png": "[encoded data removed]",
      "text/plain": [
       "<Figure size 1080x288 with 1 Axes>"
      ]
     },
     "metadata": {
      "needs_background": "light"
     },
     "output_type": "display_data"
    }
   ],
   "source": [
    "plt.figure(figsize=(15,4))\n",
    "plt.plot(hist.history['mse'], c='red')\n",
    "plt.plot(hist.history['val_mse'], c='blue')"
   ]
  },
  {
   "cell_type": "code",
   "execution_count": null,
   "metadata": {},
   "outputs": [],
   "source": []
  }
 ],
 "metadata": {
  "kernelspec": {
   "display_name": "Python 3",
   "language": "python",
   "name": "python3"
  },
  "language_info": {
   "codemirror_mode": {
    "name": "ipython",
    "version": 3
   },
   "file_extension": ".py",
   "mimetype": "text/x-python",
   "name": "python",
   "nbconvert_exporter": "python",
   "pygments_lexer": "ipython3",
   "version": "3.8.3"
  }
 },
 "nbformat": 4,
 "nbformat_minor": 4
}
